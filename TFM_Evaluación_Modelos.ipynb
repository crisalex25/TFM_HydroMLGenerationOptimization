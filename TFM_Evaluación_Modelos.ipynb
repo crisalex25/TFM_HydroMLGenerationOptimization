{
  "nbformat": 4,
  "nbformat_minor": 0,
  "metadata": {
    "colab": {
      "provenance": [],
      "authorship_tag": "ABX9TyPa0KhWGjHsU22Pu/ui+ysi",
      "include_colab_link": true
    },
    "kernelspec": {
      "name": "python3",
      "display_name": "Python 3"
    },
    "language_info": {
      "name": "python"
    }
  },
  "cells": [
    {
      "cell_type": "markdown",
      "metadata": {
        "id": "view-in-github",
        "colab_type": "text"
      },
      "source": [
        "<a href=\"https://colab.research.google.com/github/crisalex25/TFM_HydroMLGenerationOptimization/blob/main/TFM_Evaluaci%C3%B3n_Modelos.ipynb\" target=\"_parent\"><img src=\"https://colab.research.google.com/assets/colab-badge.svg\" alt=\"Open In Colab\"/></a>"
      ]
    },
    {
      "cell_type": "markdown",
      "source": [
        "# **Trabajo de Fin de Master**\n",
        "## **Máster Universitario en Inteligencia Artificial para el Sector de la Energía y las Infraestructuras**\n",
        "Optimización de generación en centrales hidroeléctricas mediante técnicas de aprendizaje automático"
      ],
      "metadata": {
        "id": "bndp5HoRkuIX"
      }
    },
    {
      "cell_type": "code",
      "execution_count": null,
      "metadata": {
        "id": "oSFNIalTm-PQ"
      },
      "outputs": [],
      "source": []
    }
  ]
}