{
  "nbformat": 4,
  "nbformat_minor": 0,
  "metadata": {
    "colab": {
      "provenance": [],
      "authorship_tag": "ABX9TyNjK/8bXeb8j5oEGsxmnzi4",
      "include_colab_link": true
    },
    "kernelspec": {
      "name": "python3",
      "display_name": "Python 3"
    },
    "language_info": {
      "name": "python"
    }
  },
  "cells": [
    {
      "cell_type": "markdown",
      "metadata": {
        "id": "view-in-github",
        "colab_type": "text"
      },
      "source": [
        "<a href=\"https://colab.research.google.com/github/crisalex25/TFM_HydroMLGenerationOptimization/blob/main/TFM_Optimizaci%C3%B3n_de_la_generaci%C3%B3n.ipynb\" target=\"_parent\"><img src=\"https://colab.research.google.com/assets/colab-badge.svg\" alt=\"Open In Colab\"/></a>"
      ]
    },
    {
      "cell_type": "markdown",
      "source": [
        "# **Trabajo de Fin de Master**\n",
        "## **Máster Universitario en Inteligencia Artificial para el Sector de la Energía y las Infraestructuras**\n",
        "Optimización de generación en centrales hidroeléctricas mediante técnicas de aprendizaje automático"
      ],
      "metadata": {
        "id": "bndp5HoRkuIX"
      }
    },
    {
      "cell_type": "markdown",
      "source": [
        "##Optimización"
      ],
      "metadata": {
        "id": "g60C50nuG885"
      }
    },
    {
      "cell_type": "markdown",
      "source": [
        "Librerías"
      ],
      "metadata": {
        "id": "5rl16yV4fLCh"
      }
    },
    {
      "cell_type": "code",
      "source": [
        "!pip install deap"
      ],
      "metadata": {
        "colab": {
          "base_uri": "https://localhost:8080/"
        },
        "id": "zYiN7qlOIXYp",
        "outputId": "6bbd7f32-396e-4a6e-b03e-bdd9538fcabb"
      },
      "execution_count": null,
      "outputs": [
        {
          "output_type": "stream",
          "name": "stdout",
          "text": [
            "Requirement already satisfied: deap in /usr/local/lib/python3.10/dist-packages (1.3.3)\n",
            "Requirement already satisfied: numpy in /usr/local/lib/python3.10/dist-packages (from deap) (1.22.4)\n"
          ]
        }
      ]
    },
    {
      "cell_type": "code",
      "source": [
        "'''\n",
        "    LIBRERIAS\n",
        "    ---------------------------------------------------------\n",
        "'''\n",
        "# Librerías de Algoritmos genéticos\n",
        "from deap import base\n",
        "from deap import creator\n",
        "from deap import tools\n",
        "from deap import algorithms\n",
        "\n",
        "# Librerías auxiliares\n",
        "import matplotlib.pyplot as plt\n",
        "\n",
        "# Librerías auxiliares\n",
        "from operator import truediv\n",
        "import numpy as np\n",
        "import random\n",
        "import time"
      ],
      "metadata": {
        "id": "51t3BiJsIMA7"
      },
      "execution_count": null,
      "outputs": []
    },
    {
      "cell_type": "code",
      "source": [
        "#Registro el tiempo de inicio del programa\n",
        "t0 = time.time()"
      ],
      "metadata": {
        "id": "SXmbzvmkIrpB"
      },
      "execution_count": null,
      "outputs": []
    },
    {
      "cell_type": "markdown",
      "source": [
        "Variables y parámetros"
      ],
      "metadata": {
        "id": "zledLPGCIfkV"
      }
    },
    {
      "cell_type": "code",
      "source": [
        "numeroGenesTotal= 72\n",
        "numeroCromosomas=3\n",
        "numeroGenesPorCromosoma= int(numeroGenesTotal/numeroCromosomas)\n",
        "probCruce=0.7            #Probabilidad de cruce\n",
        "probMutacion=0.3         #Probabilidad de mutación\n",
        "num_generaciones= 100    #Numero de generaciones\n",
        "tamaño_poblacion = 100   #Tamaño de la población\n",
        "penaliza=9999999.9\n",
        "\n",
        "P_min_G1=400.0    #Potencia mínima que puede producir el generador 1 Papallacta\n",
        "P_max_G1=1800.0   #Potencia máxima que puede producir el generador 1 Papallacta\n",
        "P_max_G2=4200.0   #Potencia máxima que puede producir el generador 2 Papallacta\n",
        "P_min_G2=1700.0   #Potencia mínima que puede producir el generador 2 Papallacta\n",
        "P_max_G3=2100.0   #Potencia máxima que puede producir el generador 3 Loreto\n",
        "P_min_G3=500.0   #Potencia mínima que puede producir el generador 3 Loreto\n",
        "\n",
        "#Demanda de potencia energética que se debe satisfacer\n",
        "demandaConsumoPorHoras_GC = [1200, 1333, 1444, 1884, 1884, 1884, 1884, 1884, 1884, 1484, 1584, 1284,\n",
        "                             1684, 1784, 1684, 1114, 1284, 1384, 1884, 1884, 1884, 1884, 1884, 1700]\n",
        "demandaConsumoPorHoras_AC = [4811, 4787, 4778, 4780, 4856, 4878, 4853, 4901, 5082, 5250, 5292, 5305,\n",
        "                             5103, 5219, 5266, 5258, 5311, 5138, 4989, 4876, 4745, 4876, 4833, 4845]\n",
        "precio_energia = [6.19, 8.39, 6.19, 6.19, 5.35, 6.48, 5.35, 5.35, 6.19, 6.19, 6.19, 6.48,\n",
        "                  6.19, 6.48, 6.19, 6.48, 6.19, 6.19, 9.46, 9.46, 8.96, 6.19, 6.19, 6.19]\n",
        "horas = [0,1,2,3,4, 5, 6, 7, 8, 9, 10,11,12,13,14,15, 16,17,18,19,20,21,22,23]"
      ],
      "metadata": {
        "id": "VKRVwhUKIyd8"
      },
      "execution_count": null,
      "outputs": []
    },
    {
      "cell_type": "markdown",
      "source": [
        "Funciones Auxiliares"
      ],
      "metadata": {
        "id": "PhdwIGxgRiQ6"
      }
    },
    {
      "cell_type": "code",
      "source": [
        "#Sección que contiene funciones auxiliares propias del dominio del problema a resolver\n",
        "\n",
        "#Función que obtiene el coste en € que correspondiente al generador diesel de producir una potencia determinada\n",
        "def getCosteDiesel(potencia):\n",
        "    return float((potencia) * 0.008)\n",
        "\n",
        "#Función que obtiene el coste en € que correspondiente al generador de gas de producir una potencia determinada\n",
        "def getCosteGas(potencia):\n",
        "    return float(potencia * 0.0025)\n",
        "\n",
        "#Función que obtiene el coste en € que correspondiente al generador de gas de producir una potencia determinada\n",
        "def getCosteG3(potencia):\n",
        "    return float(potencia * 0.0019)\n",
        "\n",
        "#Función que muestra un gráfico con los datos de las potencias contenidas en un individuo.\n",
        "def dibujarGrafico(individuo, demandaConsumoPorHoras, horas,tituloGrafico):\n",
        "        individuo1 = np.zeros(numeroGenesPorCromosoma)\n",
        "        for i in range(0,numeroGenesPorCromosoma):\n",
        "            individuo1[i]=individuo[i] #Generador G1 Papallacta\n",
        "\n",
        "        individuo2 = np.zeros(numeroGenesPorCromosoma)\n",
        "        for i in range(0,numeroGenesPorCromosoma):\n",
        "            individuo2[i]=individuo[i+numeroGenesPorCromosoma] #Generador G2 Papallacta\n",
        "\n",
        "        individuo3 = np.zeros(numeroGenesPorCromosoma)\n",
        "        for i in range(0,numeroGenesPorCromosoma):\n",
        "            individuo3[i]=individuo[i+numeroGenesPorCromosoma*2] #Generador G3 Loreto\n",
        "\n",
        "        plt.bar(horas, individuo1 + individuo2 , label='G2',color='green')\n",
        "        plt.bar(horas, individuo1 , label='G1',color='blue')\n",
        "        plt.plot(horas,demandaConsumoPorHoras_AC,'*--', label='Demanda AutoConsumo' )\n",
        "        plt.ylabel('Potencia (Kw)')\n",
        "        plt.xlabel('Horas (0 - 24)')\n",
        "        plt.title(tituloGrafico)\n",
        "        #agregar segundo grafico\n",
        "\n",
        "        plt.legend(loc='best')\n",
        "        plt.show()\n",
        "\n",
        "#La función realiza varias comprobaciones para saber si un individuo es válido.\n",
        "def individuoIsValid(x):\n",
        "\n",
        "    #Elimino valores negativos\n",
        "    for i in range(0,numeroGenesPorCromosoma*3):\n",
        "        if (x[i] < float(0.0)):\n",
        "            return False\n",
        "\n",
        "    #El generador G1 debe generar más potencia de 400 kw para que funcione\n",
        "    for i in range(0,numeroGenesPorCromosoma):\n",
        "        if (x[i]>0.0 and x[i]< P_min_G1):\n",
        "            return False\n",
        "\n",
        "    #El generador G2 debe generar más potencia de 1700 kw para que funcione\n",
        "    for i in range(numeroGenesPorCromosoma,numeroGenesPorCromosoma*2):\n",
        "        if (x[i]>0.0 and x[i]< P_min_G2):\n",
        "            return False\n",
        "\n",
        "    #El generador G3 debe generar más potencia de 500 kw para que funcione\n",
        "    for i in range(numeroGenesPorCromosoma*2,numeroGenesTotal):\n",
        "        if (x[i]>0.0 and x[i]< P_min_G3):\n",
        "            return False\n",
        "\n",
        "    #Compruebo que el generador 1 solo puede tener asignada como máxima su maximo permitido\n",
        "    for i in range(0,numeroGenesPorCromosoma):\n",
        "        if (x[i] > P_max_G1):\n",
        "            return False\n",
        "\n",
        "    #Compruebo que el generador 2 solo puede tener asignada como máxima su maximo permitido\n",
        "    for i in range(numeroGenesPorCromosoma,numeroGenesPorCromosoma*2):\n",
        "       if (x[i] > P_max_G2):\n",
        "            return False\n",
        "\n",
        "    #Compruebo que el generador 3  solo puede tener asignada como máxima su maximo permitido\n",
        "    for i in range(numeroGenesPorCromosoma*2,numeroGenesTotal):\n",
        "       if (x[i] > P_max_G3):\n",
        "            return False\n",
        "\n",
        "    #Compruebo si el individuo satisface la demanda energética AC\n",
        "    for i in range(len(demandaConsumoPorHoras_AC)):\n",
        "        demandaAsatistacer_AC = float(demandaConsumoPorHoras_AC[i])\n",
        "        diferencia= demandaAsatistacer_AC - float(x[i]) - float(x[i+numeroGenesPorCromosoma])\n",
        "        if (diferencia > 0.0):\n",
        "            return False\n",
        "    return True\n",
        "\n",
        "    #Compruebo si el individuo satisface la demanda energética GC\n",
        "    for i in range(len(demandaConsumoPorHoras_GC)):\n",
        "        demandaAsatistacer_GC = float(demandaConsumoPorHoras_GC[i])\n",
        "        diferencia= demandaAsatistacer_GC - float(x[i+numeroGenesPorCromosoma*2])\n",
        "        if (diferencia > 0.0):\n",
        "            return False\n",
        "    return True\n"
      ],
      "metadata": {
        "id": "xFmWrP2-Rivo"
      },
      "execution_count": null,
      "outputs": []
    },
    {
      "cell_type": "markdown",
      "source": [
        "FUnciones Auxiliares"
      ],
      "metadata": {
        "id": "0Roo7RRp1fno"
      }
    },
    {
      "cell_type": "code",
      "source": [
        "'''\n",
        "    FUNCIONES AUXILIARES DEL AG\n",
        "    ---------------------------------------------------------\n",
        "'''\n",
        "# Función para la creación de individuos iniciales\n",
        "def crea_individuo():   # Creación de individuos iniciales\n",
        "    cromosoma = np.zeros(numeroGenesTotal)\n",
        "\n",
        "    # Asigno potencias aleatoriamente para el generador diesel\n",
        "    for i in range(0,numeroGenesPorCromosoma):\n",
        "        cromosoma[i] =float(np.random.uniform(P_min_G1, P_max_G1) )\n",
        "\n",
        "    # Asigno potencias aleatoriamente para el generador de gas\n",
        "    for i in range(numeroGenesPorCromosoma, numeroGenesPorCromosoma*2):\n",
        "        cromosoma[i] =float(np.random.uniform(P_min_G2, P_max_G2) )\n",
        "\n",
        "    # Asigno potencias aleatoriamente para el generador de gas\n",
        "    for i in range(numeroGenesPorCromosoma*2, numeroGenesPorCromosoma*3):\n",
        "        cromosoma[i] =float(np.random.uniform(P_min_G2, P_max_G2) )\n",
        "\n",
        "    #Formateo los valores del cromosoma a decimal con 2 decimales\n",
        "    for i in range(0, numeroGenesPorCromosoma*3):\n",
        "        cromosoma[i] = float(\"{:.2f}\".format(cromosoma[i]))  #Doy formato al valor\n",
        "\n",
        "    return cromosoma\n",
        "\n",
        "\n",
        "#Función que aplica el operador de mutación para un indivudo dado\n",
        "def mutacion(individuo):\n",
        "    #Compruebo que al hacer los operadores de cruce no hay numeros negativos\n",
        "    if (individuoIsValid(individuo) == False):\n",
        "        return individuo,  #Individuo no válido así que no aplico mutacion\n",
        "\n",
        "    #Decido el gen que se va modificar\n",
        "    random_gen_a_modificar = random.randint(0, numeroGenesTotal-1)\n",
        "\n",
        "    #Modifico la potencia del gen seleccionado\n",
        "    random_pot = random.randint(0, int(abs(individuo[random_gen_a_modificar])))\n",
        "\n",
        "    #Una vez que tengo la potencia a modificar y el gen que voy a modificar, decido aleatoriamente si voy a sumar o restar la potencia calculada\n",
        "    cromosoma_a_modificar = random.randint(0, 2)\n",
        "    if (cromosoma_a_modificar==0):\n",
        "        individuo[random_gen_a_modificar] +=  float(random_pot)\n",
        "    else:\n",
        "        aux = individuo[random_gen_a_modificar] - float(random_pot)\n",
        "        #Si el valor de aux es <0 igualo a 0 la variable aux ya que no es posible que tener potencias negativas\n",
        "        if aux <0:\n",
        "            aux=0\n",
        "        individuo[random_gen_a_modificar]= aux\n",
        "\n",
        "    #Formateo los valores del cromosoma a decimal con 2 decimales\n",
        "    for i in range(numeroGenesTotal):\n",
        "        individuo[i] = float(\"{:.2f}\".format(individuo[i]))  #Doy formato al valor\n",
        "\n",
        "    return individuo,\n",
        "\n",
        "\n",
        "#Función objetivo de nuestro problema\n",
        "def fitness(x):\n",
        "    \"\"\"\n",
        "    Función objetivo del problema\n",
        "    \"\"\"\n",
        "    coste=0.0\n",
        "    isValid =individuoIsValid(x)\n",
        "    if (isValid is False):\n",
        "        return penaliza,\n",
        "\n",
        "    #Coste del generador diesel\n",
        "    costeGeneradorDiesel=0.0\n",
        "    for i in range(0,numeroGenesPorCromosoma):\n",
        "        costeGeneradorDiesel=costeGeneradorDiesel + getCosteDiesel(x[i])\n",
        "\n",
        "    #Coste del generador diesel\n",
        "    costeGeneradorGas=0.0\n",
        "    for i in range(numeroGenesPorCromosoma,numeroGenesPorCromosoma*2):\n",
        "        costeGeneradorGas=costeGeneradorGas + getCosteGas(x[i])\n",
        "\n",
        "    #Coste del generador diesel\n",
        "    costeGeneradorG3=0.0\n",
        "    for i in range(numeroGenesPorCromosoma*2,numeroGenesPorCromosoma*3):\n",
        "        costeGeneradorG3=costeGeneradorG3 + getCosteG3(x[i])\n",
        "\n",
        "    coste= costeGeneradorDiesel+ costeGeneradorGas + costeGeneradorG3\n",
        "    coste= float(\"{:.2f}\".format(coste))  #Doy formato al coste\n",
        "\n",
        "    return coste,\n",
        "\n",
        "\n",
        "#Función que ejecuta el algoritmo genético\n",
        "def unico_objetivo_ga(c, m, toolbox):  #c=> probabilidad de cruce y m => probabilidad de mutación\n",
        "    NGEN = num_generaciones #Numero de generaciones\n",
        "    MU = tamaño_poblacion  #Tamaño de la población\n",
        "    LAMBDA = MU  # Número de descendientes de la población\n",
        "    CXPB = c\n",
        "    MUTPB = m\n",
        "\n",
        "    pop = toolbox.ini_poblacion(n = MU)\n",
        "    hof = tools.HallOfFame(1, similar = np.array_equal)\n",
        "\n",
        "    stats = tools.Statistics(key = lambda ind: ind.fitness.values)\n",
        "    stats.register(\"avg\", np.mean)\n",
        "    stats.register(\"std\", np.std)\n",
        "    stats.register(\"min\", np.min)\n",
        "    stats.register(\"max\", np.max)\n",
        "\n",
        "    logbook = tools.Logbook()\n",
        "\n",
        "    pop, logbook = algorithms.eaMuPlusLambda(pop, toolbox, MU, LAMBDA, CXPB, MUTPB, NGEN, stats= stats, halloffame=hof, verbose = False)\n",
        "    return pop, hof, logbook"
      ],
      "metadata": {
        "id": "xNMFN7O81fTd"
      },
      "execution_count": null,
      "outputs": []
    },
    {
      "cell_type": "markdown",
      "source": [
        "Configuración del Algoritmo Genético"
      ],
      "metadata": {
        "id": "wFSCdeTq2U1X"
      }
    },
    {
      "cell_type": "code",
      "source": [
        "'''\n",
        "    CONFIGURACION DEL AG PROPORCIONADO POR LA LIBRERIA DEAP\n",
        "    ---------------------------------------------------------\n",
        "'''\n",
        "creator.create(\"FitnessMin\", base.Fitness, weights = (-1,))\n",
        "creator.create(\"Individual\", np.ndarray, fitness = creator.FitnessMin)\n",
        "\n",
        "toolbox = base.Toolbox()\n",
        "toolbox.register(\"individual\", tools.initIterate, creator.Individual, crea_individuo)\n",
        "toolbox.register(\"ini_poblacion\", tools.initRepeat, list, toolbox.individual)\n",
        "toolbox.register(\"evaluate\", fitness)       #Indica cual es la función objetivo\n",
        "toolbox.register(\"mate\", tools.cxOnePoint)  #Configuración del operador de cruce por 1 punto\n",
        "toolbox.register(\"mutate\", mutacion)        #Indica cual es la función de mutación\n",
        "toolbox.register(\"select\", tools.selTournament, tournsize = 3)  #Indica que el operador de selección es del tipo torneo\n",
        "\n",
        "pop_new, pareto_new, log = unico_objetivo_ga(probCruce,probMutacion, toolbox)\n",
        "t1 = time.time()\n",
        "segundos = int(t1-t0)"
      ],
      "metadata": {
        "id": "XG4we44d2UjX"
      },
      "execution_count": null,
      "outputs": []
    },
    {
      "cell_type": "markdown",
      "source": [
        "Resultados"
      ],
      "metadata": {
        "id": "ghgOh9_G2fyo"
      }
    },
    {
      "cell_type": "code",
      "source": [
        "'''\n",
        "    RESULTADOS\n",
        "    ---------------------------------------------------------\n",
        "'''\n",
        "#Ejecuto funciones para mostrar el resultado de la ejecución\n",
        "print(\"Tiempo empleado: \", segundos ,\" segundos\")\n",
        "print(\"La mejor solución es: \", pareto_new[0],\"   fitness: \" , fitness(pareto_new[0]))\n",
        "\n",
        "tituloGrafico= \"Nº generaciones: \"+ str(num_generaciones) + \" Tam. población: \"+ str(tamaño_poblacion) + \" Coste: \" +str(fitness(pareto_new[0]) )+\" Sg: \" + str(segundos)\n",
        "dibujarGrafico(pareto_new[0], demandaConsumoPorHoras_AC, horas,tituloGrafico)"
      ],
      "metadata": {
        "colab": {
          "base_uri": "https://localhost:8080/",
          "height": 628
        },
        "id": "vSTudqmM2fhZ",
        "outputId": "52995bf3-7289-48fd-e84b-7183de7f6682"
      },
      "execution_count": null,
      "outputs": [
        {
          "output_type": "stream",
          "name": "stdout",
          "text": [
            "Tiempo empleado:  1  segundos\n",
            "La mejor solución es:  [1325.62 1231.31 1531.26  436.71  876.9  1392.77 1390.27  844.23  790.77\n",
            " 1458.33  998.3  1341.54  852.06 1640.94 1350.27 1000.92 1473.49  693.52\n",
            "  996.68 1530.22 1595.17  665.85 1543.82  452.44 4028.14 3652.3  2881.78\n",
            " 2852.07 3229.05 1789.39 3865.5  1926.44 3348.38 3052.43 3403.7  3409.14\n",
            " 2965.43 3403.42 1996.53 1836.92 3697.52 1967.18 3112.39 3746.8  1930.26\n",
            " 1993.49 1957.23 2843.89 2563.94 2946.77 2884.59 2464.5  2395.01 1859.39\n",
            " 2347.45 3229.76 4000.7  3830.75 2294.62 1780.88 3151.07 3843.98 2166.98\n",
            " 2133.7  2944.35 1824.73 3543.23 2070.98 2025.91 3743.27 4150.75 3040.  ]    fitness:  (9999999.9,)\n"
          ]
        },
        {
          "output_type": "display_data",
          "data": {
            "text/plain": [
              "<Figure size 640x480 with 1 Axes>"
            ],
            "image/png": "[encoded data removed]"
          },
          "metadata": {}
        }
      ]
    },
    {
      "cell_type": "code",
      "source": [
        "print(\"   Hora   |  Demanda AC |    U1   |    U2   |  Demanda GC  |   U3   \")\n",
        "print(\"-\" * 69)\n",
        "\n",
        "for i in range(len(demandaConsumoPorHoras_AC)):\n",
        "    print(f\"{i:^9} | {demandaConsumoPorHoras_AC[i]:^11} | {pareto_new[0][i]:^7.2f} | {pareto_new[0][i+24]:^7.2f} | {demandaConsumoPorHoras_GC[i]:^12} | {pareto_new[0][i+48]:^7.2f}\")\n"
      ],
      "metadata": {
        "colab": {
          "base_uri": "https://localhost:8080/"
        },
        "id": "m2DhjtSMh6Zv",
        "outputId": "1f33d75b-17f5-495d-db41-845f994b8daa"
      },
      "execution_count": null,
      "outputs": [
        {
          "output_type": "stream",
          "name": "stdout",
          "text": [
            "   Hora   |  Demanda AC |    U1   |    U2   |  Demanda GC  |   U3   \n",
            "---------------------------------------------------------------------\n",
            "    0     |    4811     | 1325.62 | 4028.14 |     1200     | 2563.94\n",
            "    1     |    4787     | 1231.31 | 3652.30 |     1333     | 2946.77\n",
            "    2     |    4778     | 1531.26 | 2881.78 |     1444     | 2884.59\n",
            "    3     |    4780     | 436.71  | 2852.07 |     1884     | 2464.50\n",
            "    4     |    4856     | 876.90  | 3229.05 |     1884     | 2395.01\n",
            "    5     |    4878     | 1392.77 | 1789.39 |     1884     | 1859.39\n",
            "    6     |    4853     | 1390.27 | 3865.50 |     1884     | 2347.45\n",
            "    7     |    4901     | 844.23  | 1926.44 |     1884     | 3229.76\n",
            "    8     |    5082     | 790.77  | 3348.38 |     1884     | 4000.70\n",
            "    9     |    5250     | 1458.33 | 3052.43 |     1484     | 3830.75\n",
            "   10     |    5292     | 998.30  | 3403.70 |     1584     | 2294.62\n",
            "   11     |    5305     | 1341.54 | 3409.14 |     1284     | 1780.88\n",
            "   12     |    5103     | 852.06  | 2965.43 |     1684     | 3151.07\n",
            "   13     |    5219     | 1640.94 | 3403.42 |     1784     | 3843.98\n",
            "   14     |    5266     | 1350.27 | 1996.53 |     1684     | 2166.98\n",
            "   15     |    5258     | 1000.92 | 1836.92 |     1114     | 2133.70\n",
            "   16     |    5311     | 1473.49 | 3697.52 |     1284     | 2944.35\n",
            "   17     |    5138     | 693.52  | 1967.18 |     1384     | 1824.73\n",
            "   18     |    4989     | 996.68  | 3112.39 |     1884     | 3543.23\n",
            "   19     |    4876     | 1530.22 | 3746.80 |     1884     | 2070.98\n",
            "   20     |    4745     | 1595.17 | 1930.26 |     1884     | 2025.91\n",
            "   21     |    4876     | 665.85  | 1993.49 |     1884     | 3743.27\n",
            "   22     |    4833     | 1543.82 | 1957.23 |     1884     | 4150.75\n",
            "   23     |    4845     | 452.44  | 2843.89 |     1700     | 3040.00\n"
          ]
        }
      ]
    },
    {
      "cell_type": "markdown",
      "source": [
        "#Optimización Central Loreto"
      ],
      "metadata": {
        "id": "G2ipZjffmLny"
      }
    },
    {
      "cell_type": "markdown",
      "source": [
        "##Algoritmo Genético\n"
      ],
      "metadata": {
        "id": "gAIZYTChxYfA"
      }
    },
    {
      "cell_type": "code",
      "source": [
        "import random\n",
        "from tabulate import tabulate\n",
        "\n",
        "## Definición de funciones\n",
        "\n",
        "# Función para calcular los caudales turbinados y disponibles\n",
        "def calcular_caudales(potencia_unit3):\n",
        "    caudal_turbinado = 0.0005 * potencia_unit3 - 0.0154\n",
        "    caudal_turbinado = round(caudal_turbinado, 2)\n",
        "    caudal_disponible = 0.5 + 0.4\n",
        "    return caudal_turbinado, caudal_disponible\n",
        "\n",
        "# Función para calcular el costo del déficit de generación\n",
        "def calcular_costo_deficit(generacion, demanda, costo_horario):\n",
        "    deficit = generacion - demanda\n",
        "    if deficit < 0:\n",
        "        costo_deficit = abs(deficit) * costo_horario / 100\n",
        "    else:\n",
        "        costo_deficit = 0\n",
        "\n",
        "    costo_deficit = round(costo_deficit, 2)\n",
        "    return costo_deficit\n",
        "\n",
        "# Función para generar una solución inicial de generación\n",
        "def generar_solucion_inicial(capacidad_unit3, rango_horario):\n",
        "    generacion_inicial = []\n",
        "    for hora in rango_horario:\n",
        "        # Generar una potencia aleatoria entre 500 y la capacidad máxima\n",
        "        potencia_unit3 = max(random.uniform(0, capacidad_unit3), 500)\n",
        "\n",
        "        caudal_turbinado, caudal_aporte_disponible = calcular_caudales(potencia_unit3)\n",
        "\n",
        "        while caudal_turbinado > caudal_aporte_disponible:\n",
        "            potencia_unit3 = max(random.uniform(0, capacidad_unit3), 500)\n",
        "            caudal_turbinado, caudal_aporte_disponible = calcular_caudales(potencia_unit3)\n",
        "\n",
        "        generacion_inicial.append(potencia_unit3)\n",
        "\n",
        "    return generacion_inicial\n",
        "\n",
        "# Función para generar una población inicial de soluciones de generación\n",
        "def generar_poblacion_inicial(capacidad_unit3, rango_horario, tam_poblacion):\n",
        "    poblacion = []\n",
        "    for _ in range(tam_poblacion):\n",
        "        individuo = generar_solucion_inicial(capacidad_unit3, rango_horario)\n",
        "        poblacion.append(individuo)\n",
        "    return poblacion\n",
        "\n",
        "# Función para realizar el crossover entre dos individuos\n",
        "def crossover(padre1, padre2):\n",
        "    punto_corte = random.choice(range(len(padre1)))\n",
        "    hijo2 = [padre2[i] if i < punto_corte else padre1[i] for i in range(len(padre1))]\n",
        "    return hijo2\n",
        "\n",
        "# Función para aplicar mutación a un individuo\n",
        "def mutacion(individuo, prob_mutacion, capacidad_unit3):\n",
        "    for i in range(len(individuo)):\n",
        "        if random.random() < prob_mutacion:\n",
        "            nueva_potencia_unit3 = max(random.uniform(0, capacidad_unit3), 500)\n",
        "\n",
        "            caudal_turbinado, caudal_aporte_disponible = calcular_caudales(nueva_potencia_unit3)\n",
        "\n",
        "            while caudal_turbinado > caudal_aporte_disponible:\n",
        "                nueva_potencia_unit3 = max(random.uniform(0, capacidad_unit3), 500)\n",
        "                caudal_turbinado, caudal_aporte_disponible = calcular_caudales(nueva_potencia_unit3)\n",
        "\n",
        "            individuo[i] = nueva_potencia_unit3\n",
        "    return individuo\n",
        "\n",
        "# Función principal para aplicar el algoritmo genético\n",
        "def aplicar_algoritmo_genetico(capacidad_unit3, demanda_energia, costo_horario, rango_horario, tam_poblacion, prob_crossover, prob_mutacion, num_generaciones):\n",
        "    poblacion = generar_poblacion_inicial(capacidad_unit3, rango_horario, tam_poblacion)\n",
        "\n",
        "    for _ in range(num_generaciones):\n",
        "        costos = []\n",
        "\n",
        "        for generacion in poblacion:\n",
        "            costo_generacion = sum(\n",
        "                calcular_costo_deficit(\n",
        "                    generacion[i], demanda_energia[i], costo_horario[i]\n",
        "                )\n",
        "                for i in range(len(rango_horario))\n",
        "            )\n",
        "            costos.append(costo_generacion)\n",
        "\n",
        "        idx_mejor = min(range(len(costos)), key=lambda k: costos[k])\n",
        "        padre = poblacion[idx_mejor]\n",
        "\n",
        "        hijo = crossover(padre, padre)\n",
        "\n",
        "        hijo_mutado = mutacion(hijo, prob_mutacion, capacidad_unit3)\n",
        "\n",
        "        idx_peor = max(range(len(costos)), key=lambda k: costos[k])\n",
        "        poblacion[idx_peor] = hijo_mutado\n",
        "\n",
        "    mejor_idx = min(range(len(costos)), key=lambda k: costos[k])\n",
        "    mejor_generacion = poblacion[mejor_idx]\n",
        "    mejor_costo_deficit = costos[mejor_idx]\n",
        "\n",
        "    return mejor_generacion, mejor_costo_deficit\n",
        "\n",
        "# Definición de variables y parámetros\n",
        "rango_horario = range(24)\n",
        "capacidad_unit3 = 2150\n",
        "costo_horario = [6.19, 8.39, 6.19, 6.19, 5.35, 6.48, 5.35, 5.35, 6.19, 6.19, 6.19, 6.48,\n",
        "                  6.19, 6.48, 6.19, 6.48, 6.19, 6.19, 9.46, 9.46, 8.96, 6.19, 6.19, 6.19]\n",
        "\n",
        "demanda_ac = [2114, 2175, 2095, 2248, 2213, 2170, 2172, 2286, 2289, 2213, 2181, 2303,\n",
        "              2374, 2332, 2200, 2264, 2251, 2162, 2261, 2120, 2028, 2136, 2183, 2198]\n",
        "\n",
        "tam_poblacion = 5000\n",
        "prob_crossover = 0.8\n",
        "prob_mutacion = 0.1\n",
        "num_generaciones = 2000\n",
        "\n",
        "# Aplicar el algoritmo genético\n",
        "mejor_generacion, mejor_costo_deficit = aplicar_algoritmo_genetico(\n",
        "    capacidad_unit3,\n",
        "    demanda_ac,\n",
        "    costo_horario,\n",
        "    rango_horario,\n",
        "    tam_poblacion,\n",
        "    prob_crossover,\n",
        "    prob_mutacion,\n",
        "    num_generaciones,\n",
        ")\n",
        "\n",
        "# Crear tabla de resultados\n",
        "tabla_resultados = []\n",
        "for hora, generacion in enumerate(mejor_generacion):\n",
        "    caudal_turbinado, caudal_disponible = calcular_caudales(generacion)\n",
        "    costo_deficit = calcular_costo_deficit(\n",
        "        generacion, demanda_ac[hora], costo_horario[hora]\n",
        "    )  # Utilizar el costo_horario correspondiente a esta hora\n",
        "    fila = [\n",
        "        hora,\n",
        "        demanda_ac[hora],\n",
        "        generacion,\n",
        "        caudal_turbinado,\n",
        "        caudal_disponible,\n",
        "        costo_deficit,\n",
        "        costo_horario[hora]\n",
        "    ]\n",
        "    tabla_resultados.append(fila)\n",
        "\n",
        "# Mostrar tabla de resultados\n",
        "headers = [\"Hora\", \"Demanda\", \"Generación U3\", \"Caudal Turb\", \"Caudal Disp\", \"Costo Total Défic\", \"Precio kwh ctvs \", ]\n",
        "tabla = tabulate(tabla_resultados, headers, tablefmt=\"grid\")\n",
        "print(tabla)\n",
        "\n",
        "# Calcular el costo total del déficit acumulado\n",
        "costo_total_deficit = sum(row[5] for row in tabla_resultados)\n",
        "\n",
        "# Mostrar el costo total del déficit acumulado\n",
        "print(\"\\nCosto total del déficit acumulado: ${:.2f}\".format(costo_total_deficit))"
      ],
      "metadata": {
        "colab": {
          "base_uri": "https://localhost:8080/"
        },
        "id": "NcQnDYz_2pGj",
        "outputId": "fe2ea378-b8c3-40df-ab67-888593e0671b"
      },
      "execution_count": null,
      "outputs": [
        {
          "output_type": "stream",
          "name": "stdout",
          "text": [
            "+--------+-----------+-----------------+---------------+---------------+---------------------+--------------------+\n",
            "|   Hora |   Demanda |   Generación U3 |   Caudal Turb |   Caudal Disp |   Costo Total Défic |   Precio kwh ctvs  |\n",
            "+========+===========+=================+===============+===============+=====================+====================+\n",
            "|      0 |      2114 |         1799.7  |          0.88 |           0.9 |               19.46 |               6.19 |\n",
            "+--------+-----------+-----------------+---------------+---------------+---------------------+--------------------+\n",
            "|      1 |      2175 |         1811.99 |          0.89 |           0.9 |               30.46 |               8.39 |\n",
            "+--------+-----------+-----------------+---------------+---------------+---------------------+--------------------+\n",
            "|      2 |      2095 |         1838.97 |          0.9  |           0.9 |               15.85 |               6.19 |\n",
            "+--------+-----------+-----------------+---------------+---------------+---------------------+--------------------+\n",
            "|      3 |      2248 |         1839.21 |          0.9  |           0.9 |               25.3  |               6.19 |\n",
            "+--------+-----------+-----------------+---------------+---------------+---------------------+--------------------+\n",
            "|      4 |      2213 |         1637.99 |          0.8  |           0.9 |               30.76 |               5.35 |\n",
            "+--------+-----------+-----------------+---------------+---------------+---------------------+--------------------+\n",
            "|      5 |      2170 |         1774    |          0.87 |           0.9 |               25.66 |               6.48 |\n",
            "+--------+-----------+-----------------+---------------+---------------+---------------------+--------------------+\n",
            "|      6 |      2172 |         1828.55 |          0.9  |           0.9 |               18.37 |               5.35 |\n",
            "+--------+-----------+-----------------+---------------+---------------+---------------------+--------------------+\n",
            "|      7 |      2286 |         1775.68 |          0.87 |           0.9 |               27.3  |               5.35 |\n",
            "+--------+-----------+-----------------+---------------+---------------+---------------------+--------------------+\n",
            "|      8 |      2289 |         1742.38 |          0.86 |           0.9 |               33.84 |               6.19 |\n",
            "+--------+-----------+-----------------+---------------+---------------+---------------------+--------------------+\n",
            "|      9 |      2213 |         1723.97 |          0.85 |           0.9 |               30.27 |               6.19 |\n",
            "+--------+-----------+-----------------+---------------+---------------+---------------------+--------------------+\n",
            "|     10 |      2181 |         1824.84 |          0.9  |           0.9 |               22.05 |               6.19 |\n",
            "+--------+-----------+-----------------+---------------+---------------+---------------------+--------------------+\n",
            "|     11 |      2303 |         1835.1  |          0.9  |           0.9 |               30.32 |               6.48 |\n",
            "+--------+-----------+-----------------+---------------+---------------+---------------------+--------------------+\n",
            "|     12 |      2374 |         1752.2  |          0.86 |           0.9 |               38.49 |               6.19 |\n",
            "+--------+-----------+-----------------+---------------+---------------+---------------------+--------------------+\n",
            "|     13 |      2332 |         1811.36 |          0.89 |           0.9 |               33.74 |               6.48 |\n",
            "+--------+-----------+-----------------+---------------+---------------+---------------------+--------------------+\n",
            "|     14 |      2200 |         1821.2  |          0.9  |           0.9 |               23.45 |               6.19 |\n",
            "+--------+-----------+-----------------+---------------+---------------+---------------------+--------------------+\n",
            "|     15 |      2264 |         1797.43 |          0.88 |           0.9 |               30.23 |               6.48 |\n",
            "+--------+-----------+-----------------+---------------+---------------+---------------------+--------------------+\n",
            "|     16 |      2251 |         1839.44 |          0.9  |           0.9 |               25.48 |               6.19 |\n",
            "+--------+-----------+-----------------+---------------+---------------+---------------------+--------------------+\n",
            "|     17 |      2162 |         1803.52 |          0.89 |           0.9 |               22.19 |               6.19 |\n",
            "+--------+-----------+-----------------+---------------+---------------+---------------------+--------------------+\n",
            "|     18 |      2261 |         1799.98 |          0.88 |           0.9 |               43.61 |               9.46 |\n",
            "+--------+-----------+-----------------+---------------+---------------+---------------------+--------------------+\n",
            "|     19 |      2120 |         1803.91 |          0.89 |           0.9 |               29.9  |               9.46 |\n",
            "+--------+-----------+-----------------+---------------+---------------+---------------------+--------------------+\n",
            "|     20 |      2028 |         1800.81 |          0.89 |           0.9 |               20.36 |               8.96 |\n",
            "+--------+-----------+-----------------+---------------+---------------+---------------------+--------------------+\n",
            "|     21 |      2136 |         1708.19 |          0.84 |           0.9 |               26.48 |               6.19 |\n",
            "+--------+-----------+-----------------+---------------+---------------+---------------------+--------------------+\n",
            "|     22 |      2183 |         1829.11 |          0.9  |           0.9 |               21.91 |               6.19 |\n",
            "+--------+-----------+-----------------+---------------+---------------+---------------------+--------------------+\n",
            "|     23 |      2198 |         1562    |          0.77 |           0.9 |               39.37 |               6.19 |\n",
            "+--------+-----------+-----------------+---------------+---------------+---------------------+--------------------+\n",
            "\n",
            "Costo total del déficit acumulado: $664.85\n"
          ]
        }
      ]
    },
    {
      "cell_type": "code",
      "source": [
        "import matplotlib.pyplot as plt\n",
        "import numpy as np\n",
        "\n",
        "# Función para graficar la comparación entre generación y demanda en forma de barras\n",
        "def graficar_generacion_vs_demanda(rango_horario, generacion, demanda):\n",
        "    plt.figure(figsize=(10, 6))\n",
        "    plt.bar(rango_horario, generacion, label='Generación')\n",
        "    plt.plot(rango_horario, demanda, label='Demanda', marker='o', color='orange')\n",
        "    plt.xlabel('Hora')\n",
        "    plt.ylabel('Potencia')\n",
        "    plt.title('Comparación entre Generación y Demanda')\n",
        "    plt.legend()\n",
        "    plt.grid(True)\n",
        "    plt.ylim(0)  # Ajustar el límite inferior del eje Y a 0\n",
        "    plt.show()\n",
        "\n",
        "# Función para graficar el caudal turbado y caudal disponible centrados\n",
        "def graficar_caudales(rango_horario, caudal_turbinado, caudal_disponible):\n",
        "    plt.figure(figsize=(10, 6))\n",
        "    plt.plot(rango_horario, caudal_turbinado, label='Caudal Turbinado')\n",
        "    plt.plot(rango_horario, caudal_disponible, label='Caudal Disponible')\n",
        "    plt.xlabel('Hora')\n",
        "    plt.ylabel('Caudal')\n",
        "    plt.title('Caudal Turbinado vs. Caudal Disponible')\n",
        "    plt.legend()\n",
        "    plt.grid(True)\n",
        "\n",
        "\n",
        "    # Encontrar el valor máximo entre los caudales para centrar la gráfica\n",
        "    max_caudal = max(caudal_disponible)+0.05\n",
        "    min_caudal = min(min(caudal_turbinado), min(caudal_disponible))-0.05\n",
        "    plt.ylim(min_caudal, max_caudal)  # Ajustar los límites del eje Y\n",
        "    plt.show()\n",
        "\n",
        "# Obtener los valores de caudal turbinado y caudal disponible\n",
        "caudales_turbinados = [calcular_caudales(generacion)[0] for generacion in mejor_generacion]\n",
        "caudales_disponibles = [calcular_caudales(generacion)[1] for generacion in mejor_generacion]\n",
        "\n",
        "# Convertir el rango horario en una lista para usarlo como coordenadas en la gráfica de barras\n",
        "rango_horario_lista = list(rango_horario)\n",
        "\n",
        "# Graficar la comparación entre generación y demanda en forma de barras\n",
        "graficar_generacion_vs_demanda(rango_horario_lista, mejor_generacion, demanda_ac)\n",
        "\n",
        "# Graficar el caudal turbado y caudal disponible centrados\n",
        "graficar_caudales(rango_horario_lista, caudales_turbinados, caudales_disponibles)\n",
        "\n",
        "\n"
      ],
      "metadata": {
        "colab": {
          "base_uri": "https://localhost:8080/",
          "height": 1000
        },
        "id": "j9RyEyqNlwfQ",
        "outputId": "89ff843f-ace7-4923-c4d0-0e9df7c3ab63"
      },
      "execution_count": null,
      "outputs": [
        {
          "output_type": "display_data",
          "data": {
            "text/plain": [
              "<Figure size 1000x600 with 1 Axes>"
            ],
            "image/png": "[encoded data removed]"
          },
          "metadata": {}
        },
        {
          "output_type": "display_data",
          "data": {
            "text/plain": [
              "<Figure size 1000x600 with 1 Axes>"
            ],
            "image/png": "[encoded data removed]"
          },
          "metadata": {}
        }
      ]
    },
    {
      "cell_type": "markdown",
      "source": [
        "#Optimización Central Papallacta"
      ],
      "metadata": {
        "id": "c31dNe6wmR8G"
      }
    },
    {
      "cell_type": "markdown",
      "source": [
        "##Algoritmo Genético\n"
      ],
      "metadata": {
        "id": "d4WMamacR0xP"
      }
    },
    {
      "cell_type": "code",
      "source": [],
      "metadata": {
        "id": "6dbntXirmXr7"
      },
      "execution_count": null,
      "outputs": []
    }
  ]
}