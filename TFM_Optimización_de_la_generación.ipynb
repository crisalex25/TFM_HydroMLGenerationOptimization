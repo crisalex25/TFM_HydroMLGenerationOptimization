{
  "nbformat": 4,
  "nbformat_minor": 0,
  "metadata": {
    "colab": {
      "provenance": [],
      "authorship_tag": "ABX9TyOP3D+eMAuZqZs6nk/AMmA5",
      "include_colab_link": true
    },
    "kernelspec": {
      "name": "python3",
      "display_name": "Python 3"
    },
    "language_info": {
      "name": "python"
    }
  },
  "cells": [
    {
      "cell_type": "markdown",
      "metadata": {
        "id": "view-in-github",
        "colab_type": "text"
      },
      "source": [
        "<a href=\"https://colab.research.google.com/github/crisalex25/TFM_HydroMLGenerationOptimization/blob/main/TFM_Optimizaci%C3%B3n_de_la_generaci%C3%B3n.ipynb\" target=\"_parent\"><img src=\"https://colab.research.google.com/assets/colab-badge.svg\" alt=\"Open In Colab\"/></a>"
      ]
    },
    {
      "cell_type": "markdown",
      "source": [
        "# **Trabajo de Fin de Master**\n",
        "## **Máster Universitario en Inteligencia Artificial para el Sector de la Energía y las Infraestructuras**\n",
        "Optimización de generación en centrales hidroeléctricas mediante técnicas de aprendizaje automático"
      ],
      "metadata": {
        "id": "bndp5HoRkuIX"
      }
    },
    {
      "cell_type": "markdown",
      "source": [
        "##Optimización"
      ],
      "metadata": {
        "id": "g60C50nuG885"
      }
    },
    {
      "cell_type": "markdown",
      "source": [
        "Librerías"
      ],
      "metadata": {
        "id": "5rl16yV4fLCh"
      }
    },
    {
      "cell_type": "code",
      "source": [
        "!pip install deap"
      ],
      "metadata": {
        "colab": {
          "base_uri": "https://localhost:8080/"
        },
        "id": "zYiN7qlOIXYp",
        "outputId": "a81dc227-e926-416f-c432-5a14efc78bf4"
      },
      "execution_count": 105,
      "outputs": [
        {
          "output_type": "stream",
          "name": "stdout",
          "text": [
            "Requirement already satisfied: deap in /usr/local/lib/python3.10/dist-packages (1.3.3)\n",
            "Requirement already satisfied: numpy in /usr/local/lib/python3.10/dist-packages (from deap) (1.22.4)\n"
          ]
        }
      ]
    },
    {
      "cell_type": "code",
      "source": [
        "'''\n",
        "    LIBRERIAS\n",
        "    ---------------------------------------------------------\n",
        "'''\n",
        "# Librerías de Algoritmos genéticos\n",
        "from deap import base\n",
        "from deap import creator\n",
        "from deap import tools\n",
        "from deap import algorithms\n",
        "\n",
        "# Librerías auxiliares\n",
        "import matplotlib.pyplot as plt\n",
        "\n",
        "# Librerías auxiliares\n",
        "from operator import truediv\n",
        "import numpy as np\n",
        "import random\n",
        "import time"
      ],
      "metadata": {
        "id": "51t3BiJsIMA7"
      },
      "execution_count": 106,
      "outputs": []
    },
    {
      "cell_type": "code",
      "source": [
        "#Registro el tiempo de inicio del programa\n",
        "t0 = time.time()"
      ],
      "metadata": {
        "id": "SXmbzvmkIrpB"
      },
      "execution_count": 107,
      "outputs": []
    },
    {
      "cell_type": "markdown",
      "source": [
        "Variables y parámetros"
      ],
      "metadata": {
        "id": "zledLPGCIfkV"
      }
    },
    {
      "cell_type": "code",
      "source": [
        "numeroGenesTotal= 72\n",
        "numeroCromosomas=3\n",
        "numeroGenesPorCromosoma= int(numeroGenesTotal/numeroCromosomas)\n",
        "probCruce=0.7            #Probabilidad de cruce\n",
        "probMutacion=0.3         #Probabilidad de mutación\n",
        "num_generaciones= 300    #Numero de generaciones\n",
        "tamaño_poblacion = 300   #Tamaño de la población\n",
        "penaliza=9999999.9\n",
        "\n",
        "P_min_G1=400.0    #Potencia mínima que puede producir el generador 1 Papallacta\n",
        "P_max_G1=1800.0   #Potencia máxima que puede producir el generador 1 Papallacta\n",
        "P_max_G2=4200.0   #Potencia máxima que puede producir el generador 2 Papallacta\n",
        "P_min_G2=1700.0   #Potencia mínima que puede producir el generador 2 Papallacta\n",
        "P_max_G3=2100.0   #Potencia máxima que puede producir el generador 3 Loreto\n",
        "P_min_G3=500.0   #Potencia mínima que puede producir el generador 3 Loreto\n",
        "\n",
        "#Demanda de potencia energética que se debe satisfacer\n",
        "demandaConsumoPorHoras_GC = [1200, 1333, 1444, 1884, 1884, 1884, 1884, 1884, 1884, 1484, 1584, 1284,\n",
        "                             1684, 1784, 1684, 1114, 1284, 1384, 1884, 1884, 1884, 1884, 1884, 1700]\n",
        "demandaConsumoPorHoras_AC = [4811, 4787, 4778, 4780, 4856, 4878, 4853, 4901, 5082, 5250, 5292, 5305,\n",
        "                             5103, 5219, 5266, 5258, 5311, 5138, 4989, 4876, 4745, 4876, 4833, 4845]\n",
        "precio_energia = [6.19, 8.39, 6.19, 6.19, 5.35, 6.48, 5.35, 5.35, 6.19, 6.19, 6.19, 6.48,\n",
        "                  6.19, 6.48, 6.19, 6.48, 6.19, 6.19, 9.46, 9.46, 8.96, 6.19, 6.19, 6.19]\n",
        "horas = [0,1,2,3,4, 5, 6, 7, 8, 9, 10,11,12,13,14,15, 16,17,18,19,20,21,22,23]"
      ],
      "metadata": {
        "id": "VKRVwhUKIyd8"
      },
      "execution_count": 108,
      "outputs": []
    },
    {
      "cell_type": "markdown",
      "source": [
        "Funciones Auxiliares"
      ],
      "metadata": {
        "id": "PhdwIGxgRiQ6"
      }
    },
    {
      "cell_type": "code",
      "source": [
        "#Sección que contiene funciones auxiliares propias del dominio del problema a resolver\n",
        "\n",
        "#Función que obtiene el coste en € que correspondiente al generador diesel de producir una potencia determinada\n",
        "def getCosteDiesel(potencia):\n",
        "    return float((potencia) * 0.008)\n",
        "\n",
        "#Función que obtiene el coste en € que correspondiente al generador de gas de producir una potencia determinada\n",
        "def getCosteGas(potencia):\n",
        "    return float(potencia * 0.0025)\n",
        "\n",
        "#Función que obtiene el coste en € que correspondiente al generador de gas de producir una potencia determinada\n",
        "def getCosteG3(potencia):\n",
        "    return float(potencia * 0.0019)\n",
        "\n",
        "#Función que muestra un gráfico con los datos de las potencias contenidas en un individuo.\n",
        "def dibujarGrafico(individuo, demandaConsumoPorHoras, horas,tituloGrafico):\n",
        "        individuo1 = np.zeros(numeroGenesPorCromosoma)\n",
        "        for i in range(0,numeroGenesPorCromosoma):\n",
        "            individuo1[i]=individuo[i] #Generador G1 Papallacta\n",
        "\n",
        "        individuo2 = np.zeros(numeroGenesPorCromosoma)\n",
        "        for i in range(0,numeroGenesPorCromosoma):\n",
        "            individuo2[i]=individuo[i+numeroGenesPorCromosoma] #Generador G2 Papallacta\n",
        "\n",
        "        individuo3 = np.zeros(numeroGenesPorCromosoma)\n",
        "        for i in range(0,numeroGenesPorCromosoma):\n",
        "            individuo3[i]=individuo[i+numeroGenesPorCromosoma*2] #Generador G3 Loreto\n",
        "\n",
        "        plt.bar(horas, individuo1 + individuo2 , label='G2',color='green')\n",
        "        plt.bar(horas, individuo1 , label='G1',color='blue')\n",
        "        plt.plot(horas,demandaConsumoPorHoras_AC,'*--', label='Demanda AutoConsumo' )\n",
        "        plt.ylabel('Potencia (Kw)')\n",
        "        plt.xlabel('Horas (0 - 24)')\n",
        "        plt.title(tituloGrafico)\n",
        "        #agregar segundo grafico\n",
        "\n",
        "        plt.legend(loc='best')\n",
        "        plt.show()\n",
        "\n",
        "#La función realiza varias comprobaciones para saber si un individuo es válido.\n",
        "def individuoIsValid(x):\n",
        "\n",
        "    #Elimino valores negativos\n",
        "    for i in range(0,numeroGenesPorCromosoma*3):\n",
        "        if (x[i] < float(0.0)):\n",
        "            return False\n",
        "\n",
        "    #El generador G1 debe generar más potencia de 400 kw para que funcione\n",
        "    for i in range(0,numeroGenesPorCromosoma):\n",
        "        if (x[i]>0.0 and x[i]< P_min_G1):\n",
        "            return False\n",
        "\n",
        "    #El generador G2 debe generar más potencia de 1700 kw para que funcione\n",
        "    for i in range(numeroGenesPorCromosoma,numeroGenesPorCromosoma*2):\n",
        "        if (x[i]>0.0 and x[i]< P_min_G2):\n",
        "            return False\n",
        "\n",
        "    #El generador G3 debe generar más potencia de 2100 kw para que funcione\n",
        "    for i in range(numeroGenesPorCromosoma*2,numeroGenesPorCromosoma*3):\n",
        "        if (x[i]>0.0 and x[i]< P_min_G3):\n",
        "            return False\n",
        "\n",
        "    #Compruebo que el generador 1 solo puede tener asignada como máxima su maximo permitido\n",
        "    for i in range(0,numeroGenesPorCromosoma):\n",
        "        if (x[i] > P_max_G1):\n",
        "            return False\n",
        "\n",
        "    #Compruebo que el generador 2 solo puede tener asignada como máxima su maximo permitido\n",
        "    for i in range(numeroGenesPorCromosoma,numeroGenesPorCromosoma*2):\n",
        "       if (x[i] > P_max_G2):\n",
        "            return False\n",
        "\n",
        "    #Compruebo que el generador 3  solo puede tener asignada como máxima su maximo permitido\n",
        "    for i in range(numeroGenesPorCromosoma*2,numeroGenesPorCromosoma*3):\n",
        "       if (x[i] > P_max_G3):\n",
        "            return False\n",
        "\n",
        "    #Compruebo si el individuo satisface la demanda energética AC\n",
        "    for i in range(len(demandaConsumoPorHoras_AC)):\n",
        "        demandaAsatistacer_AC = float(demandaConsumoPorHoras_AC[i])\n",
        "        diferencia= demandaAsatistacer_AC - float(x[i]) - float(x[i+numeroGenesPorCromosoma])\n",
        "        if (diferencia > 0.0):\n",
        "            return False\n",
        "    return True\n",
        "\n",
        "    #Compruebo si el individuo satisface la demanda energética GC\n",
        "    for i in range(len(demandaConsumoPorHoras_GC)):\n",
        "        demandaAsatistacer_GC = float(demandaConsumoPorHoras_GC[i])\n",
        "        diferencia= demandaAsatistacer_GC - float(x[i+numeroGenesPorCromosoma*2])\n",
        "        if (diferencia > 0.0):\n",
        "            return False\n",
        "    return True\n"
      ],
      "metadata": {
        "id": "xFmWrP2-Rivo"
      },
      "execution_count": 109,
      "outputs": []
    },
    {
      "cell_type": "markdown",
      "source": [
        "FUnciones Auxiliares"
      ],
      "metadata": {
        "id": "0Roo7RRp1fno"
      }
    },
    {
      "cell_type": "code",
      "source": [
        "'''\n",
        "    FUNCIONES AUXILIARES DEL AG\n",
        "    ---------------------------------------------------------\n",
        "'''\n",
        "# Función para la creación de individuos iniciales\n",
        "def crea_individuo():   # Creación de individuos iniciales\n",
        "    cromosoma = np.zeros(numeroGenesTotal)\n",
        "\n",
        "    # Asigno potencias aleatoriamente para el generador diesel\n",
        "    for i in range(0,numeroGenesPorCromosoma):\n",
        "        cromosoma[i] =float(np.random.uniform(P_min_G1, P_max_G1) )\n",
        "\n",
        "    # Asigno potencias aleatoriamente para el generador de gas\n",
        "    for i in range(numeroGenesPorCromosoma, numeroGenesPorCromosoma*2):\n",
        "        cromosoma[i] =float(np.random.uniform(P_min_G2, P_max_G2) )\n",
        "\n",
        "    # Asigno potencias aleatoriamente para el generador de gas\n",
        "    for i in range(numeroGenesPorCromosoma*2, numeroGenesPorCromosoma*3):\n",
        "        cromosoma[i] =float(np.random.uniform(P_min_G2, P_max_G2) )\n",
        "\n",
        "    #Formateo los valores del cromosoma a decimal con 2 decimales\n",
        "    for i in range(0, numeroGenesPorCromosoma*3):\n",
        "        cromosoma[i] = float(\"{:.2f}\".format(cromosoma[i]))  #Doy formato al valor\n",
        "\n",
        "    return cromosoma\n",
        "\n",
        "\n",
        "#Función que aplica el operador de mutación para un indivudo dado\n",
        "def mutacion(individuo):\n",
        "    #Compruebo que al hacer los operadores de cruce no hay numeros negativos\n",
        "    if (individuoIsValid(individuo) == False):\n",
        "        return individuo,  #Individuo no válido así que no aplico mutacion\n",
        "\n",
        "    #Decido el gen que se va modificar\n",
        "    random_gen_a_modificar = random.randint(0, numeroGenesTotal-1)\n",
        "\n",
        "    #Modifico la potencia del gen seleccionado\n",
        "    random_pot = random.randint(0, int(abs(individuo[random_gen_a_modificar])))\n",
        "\n",
        "    #Una vez que tengo la potencia a modificar y el gen que voy a modificar, decido aleatoriamente si voy a sumar o restar la potencia calculada\n",
        "    cromosoma_a_modificar = random.randint(100, 200)\n",
        "    if (cromosoma_a_modificar==0):\n",
        "        individuo[random_gen_a_modificar]= individuo[random_gen_a_modificar] + float(random_pot)\n",
        "    else:\n",
        "        aux = individuo[random_gen_a_modificar] - float(random_pot)\n",
        "        #Si el valor de aux es <0 igualo a 0 la variable aux ya que no es posible que tener potencias negativas\n",
        "        if aux <0:\n",
        "            aux=0\n",
        "        individuo[random_gen_a_modificar]= aux\n",
        "\n",
        "    #Formateo los valores del cromosoma a decimal con 2 decimales\n",
        "    for i in range(0, numeroGenesPorCromosoma*3):\n",
        "        individuo[i] = float(\"{:.2f}\".format(individuo[i]))  #Doy formato al valor\n",
        "\n",
        "    return individuo,\n",
        "\n",
        "\n",
        "#Función objetivo de nuestro problema\n",
        "def fitness(x):\n",
        "    \"\"\"\n",
        "    Función objetivo del problema\n",
        "    \"\"\"\n",
        "    coste=0.0\n",
        "    isValid =individuoIsValid(x)\n",
        "    if (isValid is False):\n",
        "        return penaliza,\n",
        "\n",
        "    #Coste del generador diesel\n",
        "    costeGeneradorDiesel=0.0\n",
        "    for i in range(0,numeroGenesPorCromosoma):\n",
        "        costeGeneradorDiesel=costeGeneradorDiesel + getCosteDiesel(x[i])\n",
        "\n",
        "    #Coste del generador diesel\n",
        "    costeGeneradorGas=0.0\n",
        "    for i in range(numeroGenesPorCromosoma,numeroGenesPorCromosoma*2):\n",
        "        costeGeneradorGas=costeGeneradorGas + getCosteGas(x[i])\n",
        "\n",
        "    #Coste del generador diesel\n",
        "    costeGeneradorG3=0.0\n",
        "    for i in range(numeroGenesPorCromosoma*2,numeroGenesPorCromosoma*3):\n",
        "        costeGeneradorG3=costeGeneradorG3 + getCosteG3(x[i])\n",
        "\n",
        "    coste= costeGeneradorDiesel+ costeGeneradorGas + costeGeneradorG3\n",
        "    coste= float(\"{:.2f}\".format(coste))  #Doy formato al coste\n",
        "\n",
        "    return coste,\n",
        "\n",
        "\n",
        "#Función que ejecuta el algoritmo genético\n",
        "def unico_objetivo_ga(c, m, toolbox):  #c=> probabilidad de cruce y m => probabilidad de mutación\n",
        "    NGEN = num_generaciones #Numero de generaciones\n",
        "    MU = tamaño_poblacion  #Tamaño de la población\n",
        "    LAMBDA = MU  # Número de descendientes de la población\n",
        "    CXPB = c\n",
        "    MUTPB = m\n",
        "\n",
        "    pop = toolbox.ini_poblacion(n = MU)\n",
        "    hof = tools.HallOfFame(1, similar = np.array_equal)\n",
        "\n",
        "    stats = tools.Statistics(key = lambda ind: ind.fitness.values)\n",
        "    stats.register(\"avg\", np.mean)\n",
        "    stats.register(\"std\", np.std)\n",
        "    stats.register(\"min\", np.min)\n",
        "    stats.register(\"max\", np.max)\n",
        "\n",
        "    logbook = tools.Logbook()\n",
        "\n",
        "    pop, logbook = algorithms.eaMuPlusLambda(pop, toolbox, MU, LAMBDA, CXPB, MUTPB, NGEN, stats= stats, halloffame=hof, verbose = False)\n",
        "    return pop, hof, logbook"
      ],
      "metadata": {
        "id": "xNMFN7O81fTd"
      },
      "execution_count": 110,
      "outputs": []
    },
    {
      "cell_type": "markdown",
      "source": [
        "Configuración del Algoritmo Genético"
      ],
      "metadata": {
        "id": "wFSCdeTq2U1X"
      }
    },
    {
      "cell_type": "code",
      "source": [
        "'''\n",
        "    CONFIGURACION DEL AG PROPORCIONADO POR LA LIBRERIA DEAP\n",
        "    ---------------------------------------------------------\n",
        "'''\n",
        "creator.create(\"FitnessMin\", base.Fitness, weights = (-1,))\n",
        "creator.create(\"Individual\", np.ndarray, fitness = creator.FitnessMin)\n",
        "\n",
        "toolbox = base.Toolbox()\n",
        "toolbox.register(\"individual\", tools.initIterate, creator.Individual, crea_individuo)\n",
        "toolbox.register(\"ini_poblacion\", tools.initRepeat, list, toolbox.individual)\n",
        "toolbox.register(\"evaluate\", fitness)       #Indica cual es la función objetivo\n",
        "toolbox.register(\"mate\", tools.cxOnePoint)  #Configuración del operador de cruce por 1 punto\n",
        "toolbox.register(\"mutate\", mutacion)        #Indica cual es la función de mutación\n",
        "toolbox.register(\"select\", tools.selTournament, tournsize = 3)  #Indica que el operador de selección es del tipo torneo\n",
        "\n",
        "pop_new, pareto_new, log = unico_objetivo_ga(probCruce,probMutacion, toolbox)\n",
        "t1 = time.time()\n",
        "segundos = int(t1-t0)"
      ],
      "metadata": {
        "id": "XG4we44d2UjX"
      },
      "execution_count": 111,
      "outputs": []
    },
    {
      "cell_type": "markdown",
      "source": [
        "Resultados"
      ],
      "metadata": {
        "id": "ghgOh9_G2fyo"
      }
    },
    {
      "cell_type": "code",
      "source": [
        "'''\n",
        "    RESULTADOS\n",
        "    ---------------------------------------------------------\n",
        "'''\n",
        "#Ejecuto funciones para mostrar el resultado de la ejecución\n",
        "print(\"Tiempo empleado: \", segundos ,\" segundos\")\n",
        "print(\"La mejor solución es: \", pareto_new[0],\"   fitness: \" , fitness(pareto_new[0]))\n",
        "\n",
        "tituloGrafico= \"Nº generaciones: \"+ str(num_generaciones) + \" Tam. población: \"+ str(tamaño_poblacion) + \" Coste: \" +str(fitness(pareto_new[0]) )+\" Sg: \" + str(segundos)\n",
        "dibujarGrafico(pareto_new[0], demandaConsumoPorHoras_AC, horas,tituloGrafico)"
      ],
      "metadata": {
        "colab": {
          "base_uri": "https://localhost:8080/",
          "height": 628
        },
        "id": "vSTudqmM2fhZ",
        "outputId": "a9fd3cbe-4adb-434c-a62e-aae0e8335b6c"
      },
      "execution_count": 124,
      "outputs": [
        {
          "output_type": "stream",
          "name": "stdout",
          "text": [
            "Tiempo empleado:  17  segundos\n",
            "La mejor solución es:  [ 880.21 1628.55  697.88 1042.63  782.99 1209.36 1462.49 1132.6  1325.36\n",
            " 1309.61 1065.88  521.1   803.96 1763.12 1092.98 1267.43 1262.41 1195.88\n",
            " 1502.86 1667.36  496.5  1717.98  902.94 1509.41 3868.07 3937.71 4177.96\n",
            " 2916.87 2727.34 1770.03 2695.95 3696.28 4173.75 2119.9  1790.01 3672.25\n",
            " 3869.92 1761.55 2406.91 1797.07 2700.6  2044.76 3443.22 2011.95 2829.1\n",
            " 3822.91 2078.85 2636.54 3947.64 3162.87 3697.92 2060.12 3671.66 1747.4\n",
            " 1982.48 3745.95 2654.84 3675.92 3146.59 2007.13 3890.11 3935.12 2956.25\n",
            " 3129.33 3171.96 2482.81 2309.21 3539.58 3943.37 3515.03 2354.98 3279.92]    fitness:  (9999999.9,)\n"
          ]
        },
        {
          "output_type": "display_data",
          "data": {
            "text/plain": [
              "<Figure size 640x480 with 1 Axes>"
            ],
            "image/png": "[encoded data removed]"
          },
          "metadata": {}
        }
      ]
    },
    {
      "cell_type": "code",
      "source": [
        "print(\"   Hora   |  Demanda AC |    U1   |    U2   |  Demanda GC  |   U3   \")\n",
        "print(\"-\" * 69)\n",
        "\n",
        "for i in range(len(demandaConsumoPorHoras_AC)):\n",
        "    print(f\"{i:^9} | {demandaConsumoPorHoras_AC[i]:^11.2f} | {pareto_new[0][i]:^7.2f} | {pareto_new[0][i+24]:^7.2f} | {demandaConsumoPorHoras_GC[i]:^12.2f} | {pareto_new[0][i+48]:^7.2f}\")\n"
      ],
      "metadata": {
        "colab": {
          "base_uri": "https://localhost:8080/"
        },
        "id": "m2DhjtSMh6Zv",
        "outputId": "81504925-fa43-43d6-b9b8-b146c8055f64"
      },
      "execution_count": 128,
      "outputs": [
        {
          "output_type": "stream",
          "name": "stdout",
          "text": [
            "   Hora   |  Demanda AC |    U1   |    U2   |  Demanda GC  |   U3   \n",
            "---------------------------------------------------------------------\n",
            "    0     |   4811.00   | 880.21  | 3868.07 |   1200.00    | 3947.64\n",
            "    1     |   4787.00   | 1628.55 | 3937.71 |   1333.00    | 3162.87\n",
            "    2     |   4778.00   | 697.88  | 4177.96 |   1444.00    | 3697.92\n",
            "    3     |   4780.00   | 1042.63 | 2916.87 |   1884.00    | 2060.12\n",
            "    4     |   4856.00   | 782.99  | 2727.34 |   1884.00    | 3671.66\n",
            "    5     |   4878.00   | 1209.36 | 1770.03 |   1884.00    | 1747.40\n",
            "    6     |   4853.00   | 1462.49 | 2695.95 |   1884.00    | 1982.48\n",
            "    7     |   4901.00   | 1132.60 | 3696.28 |   1884.00    | 3745.95\n",
            "    8     |   5082.00   | 1325.36 | 4173.75 |   1884.00    | 2654.84\n",
            "    9     |   5250.00   | 1309.61 | 2119.90 |   1484.00    | 3675.92\n",
            "   10     |   5292.00   | 1065.88 | 1790.01 |   1584.00    | 3146.59\n",
            "   11     |   5305.00   | 521.10  | 3672.25 |   1284.00    | 2007.13\n",
            "   12     |   5103.00   | 803.96  | 3869.92 |   1684.00    | 3890.11\n",
            "   13     |   5219.00   | 1763.12 | 1761.55 |   1784.00    | 3935.12\n",
            "   14     |   5266.00   | 1092.98 | 2406.91 |   1684.00    | 2956.25\n",
            "   15     |   5258.00   | 1267.43 | 1797.07 |   1114.00    | 3129.33\n",
            "   16     |   5311.00   | 1262.41 | 2700.60 |   1284.00    | 3171.96\n",
            "   17     |   5138.00   | 1195.88 | 2044.76 |   1384.00    | 2482.81\n",
            "   18     |   4989.00   | 1502.86 | 3443.22 |   1884.00    | 2309.21\n",
            "   19     |   4876.00   | 1667.36 | 2011.95 |   1884.00    | 3539.58\n",
            "   20     |   4745.00   | 496.50  | 2829.10 |   1884.00    | 3943.37\n",
            "   21     |   4876.00   | 1717.98 | 3822.91 |   1884.00    | 3515.03\n",
            "   22     |   4833.00   | 902.94  | 2078.85 |   1884.00    | 2354.98\n",
            "   23     |   4845.00   | 1509.41 | 2636.54 |   1700.00    | 3279.92\n"
          ]
        }
      ]
    },
    {
      "cell_type": "markdown",
      "source": [
        "#Optimización Ejemplos"
      ],
      "metadata": {
        "id": "TpBP3_Y-H7eq"
      }
    },
    {
      "cell_type": "code",
      "source": [
        "import random\n",
        "from tabulate import tabulate\n",
        "\n",
        "def calcular_costo_deficit(generacion, demanda, costo_horario):\n",
        "    deficit = generacion - demanda\n",
        "    if deficit < 0:\n",
        "        costo_deficit = abs(deficit) * costo_horario\n",
        "    else:\n",
        "        costo_deficit = 0\n",
        "    return costo_deficit\n",
        "\n",
        "def generar_solucion_inicial(capacidad_unit1, capacidad_unit2, rango_horario):\n",
        "    generacion_inicial = {}\n",
        "    for hora in rango_horario:\n",
        "        generacion_unit1 = random.uniform(400, capacidad_unit1)\n",
        "        generacion_unit2 = random.uniform(1600, capacidad_unit2)\n",
        "        generacion_inicial[hora] = (generacion_unit1, generacion_unit2)\n",
        "    return generacion_inicial\n",
        "\n",
        "def generar_movimiento(generacion_unit):\n",
        "    incremento = random.uniform(-0.1, 0.1) * generacion_unit\n",
        "    nueva_generacion_unit = generacion_unit + incremento\n",
        "    return max(nueva_generacion_unit, 0)  # Asegurarse de no tener generación negativa\n",
        "\n",
        "def aplicar_heuristica(capacidad_unit1, capacidad_unit2, demanda_energia, costo_horario, rango_horario, iteraciones):\n",
        "    mejor_costo_deficit = float('inf')\n",
        "    mejor_generacion = {}\n",
        "\n",
        "    for _ in range(iteraciones):\n",
        "        generacion = generar_solucion_inicial(capacidad_unit1, capacidad_unit2, rango_horario)\n",
        "        costo_deficit = sum(calcular_costo_deficit(generacion[hora][0] + generacion[hora][1], demanda_energia[hora], costo_horario) for hora in rango_horario)\n",
        "\n",
        "        for _ in range(100):  # Número fijo de iteraciones de mejora por solución inicial\n",
        "            nueva_generacion = {}\n",
        "            for hora in rango_horario:\n",
        "                generacion_unit1, generacion_unit2 = generacion[hora]\n",
        "                nueva_generacion_unit1 = generar_movimiento(generacion_unit1)\n",
        "                nueva_generacion_unit2 = generar_movimiento(generacion_unit2)\n",
        "                nueva_generacion[hora] = (nueva_generacion_unit1, nueva_generacion_unit2)\n",
        "\n",
        "            nuevo_costo_deficit = sum(calcular_costo_deficit(nueva_generacion[hora][0] + nueva_generacion[hora][1], demanda_energia[hora], costo_horario) for hora in rango_horario)\n",
        "\n",
        "            if nuevo_costo_deficit < costo_deficit:\n",
        "                generacion = nueva_generacion\n",
        "                costo_deficit = nuevo_costo_deficit\n",
        "            else:\n",
        "                break\n",
        "\n",
        "        if costo_deficit < mejor_costo_deficit:\n",
        "            mejor_costo_deficit = costo_deficit\n",
        "            mejor_generacion = generacion\n",
        "\n",
        "    return mejor_generacion, mejor_costo_deficit\n",
        "\n",
        "# Ejemplo de uso\n",
        "capacidad_unit1 = 1800\n",
        "capacidad_unit2 = 4200\n",
        "costo_horario = 10\n",
        "rango_horario = range(24)  # Horas del día (0 a 23)\n",
        "\n",
        "# Generar demanda de energía aleatoria para cada hora del día\n",
        "demanda_energia = {hora: random.uniform(2000, 3600) for hora in rango_horario}\n",
        "\n",
        "iteraciones = 100\n",
        "\n",
        "mejor_generacion, mejor_costo_deficit = aplicar_heuristica(capacidad_unit1, capacidad_unit2, demanda_energia, costo_horario, rango_horario, iteraciones)\n",
        "\n",
        "# Preparar los datos para la tabla\n",
        "tabla_resultados = []\n",
        "for hora, generacion in mejor_generacion.items():\n",
        "    fila = [hora, generacion[0], generacion[1], calcular_costo_deficit(generacion[0] + generacion[1], demanda_energia[hora], costo_horario), demanda_energia[hora]]\n",
        "    tabla_resultados.append(fila)\n",
        "\n",
        "# Mostrar los resultados en una tabla\n",
        "headers = [\"Hora\", \"Generación Unidad 1\", \"Generación Unidad 2\", \"Costo Déficit\", \"Demanda\"]\n",
        "tabla = tabulate(tabla_resultados, headers, tablefmt=\"grid\")\n",
        "print(tabla)\n",
        "\n"
      ],
      "metadata": {
        "id": "nyZXZTkbcOBA",
        "colab": {
          "base_uri": "https://localhost:8080/"
        },
        "outputId": "11d82459-5376-4b18-da95-04820c7c2bf6"
      },
      "execution_count": 61,
      "outputs": [
        {
          "output_type": "stream",
          "name": "stdout",
          "text": [
            "+--------+-----------------------+-----------------------+-----------------+-----------+\n",
            "|   Hora |   Generación Unidad 1 |   Generación Unidad 2 |   Costo Déficit |   Demanda |\n",
            "+========+=======================+=======================+=================+===========+\n",
            "|      0 |               730.387 |               2942.32 |               0 |   3557.17 |\n",
            "+--------+-----------------------+-----------------------+-----------------+-----------+\n",
            "|      1 |               800.462 |               3328.29 |               0 |   2971.79 |\n",
            "+--------+-----------------------+-----------------------+-----------------+-----------+\n",
            "|      2 |              1175.93  |               4376.4  |               0 |   3537.24 |\n",
            "+--------+-----------------------+-----------------------+-----------------+-----------+\n",
            "|      3 |              1437.91  |               3831.88 |               0 |   2615.58 |\n",
            "+--------+-----------------------+-----------------------+-----------------+-----------+\n",
            "|      4 |              1306.39  |               3173.35 |               0 |   2714.86 |\n",
            "+--------+-----------------------+-----------------------+-----------------+-----------+\n",
            "|      5 |              1659.5   |               2640.04 |               0 |   3537.47 |\n",
            "+--------+-----------------------+-----------------------+-----------------+-----------+\n",
            "|      6 |               594.198 |               2699.92 |               0 |   2331.07 |\n",
            "+--------+-----------------------+-----------------------+-----------------+-----------+\n",
            "|      7 |               829.673 |               2290.36 |               0 |   2325.42 |\n",
            "+--------+-----------------------+-----------------------+-----------------+-----------+\n",
            "|      8 |               604.919 |               3548.85 |               0 |   2707.13 |\n",
            "+--------+-----------------------+-----------------------+-----------------+-----------+\n",
            "|      9 |              1533.4   |               3651.02 |               0 |   2867.65 |\n",
            "+--------+-----------------------+-----------------------+-----------------+-----------+\n",
            "|     10 |               658.281 |               2306.55 |               0 |   2395.45 |\n",
            "+--------+-----------------------+-----------------------+-----------------+-----------+\n",
            "|     11 |               745.933 |               3794.93 |               0 |   3191.58 |\n",
            "+--------+-----------------------+-----------------------+-----------------+-----------+\n",
            "|     12 |              1401.31  |               1994.59 |               0 |   2447.73 |\n",
            "+--------+-----------------------+-----------------------+-----------------+-----------+\n",
            "|     13 |              1414.28  |               4002.35 |               0 |   3076.5  |\n",
            "+--------+-----------------------+-----------------------+-----------------+-----------+\n",
            "|     14 |               938.08  |               3684.87 |               0 |   2300.42 |\n",
            "+--------+-----------------------+-----------------------+-----------------+-----------+\n",
            "|     15 |              1137.46  |               3422.96 |               0 |   3274.08 |\n",
            "+--------+-----------------------+-----------------------+-----------------+-----------+\n",
            "|     16 |               473.702 |               3978.48 |               0 |   2410.6  |\n",
            "+--------+-----------------------+-----------------------+-----------------+-----------+\n",
            "|     17 |              1479.2   |               1998.37 |               0 |   3432.4  |\n",
            "+--------+-----------------------+-----------------------+-----------------+-----------+\n",
            "|     18 |              1260.21  |               3152.11 |               0 |   3348.4  |\n",
            "+--------+-----------------------+-----------------------+-----------------+-----------+\n",
            "|     19 |              1627.66  |               3946.15 |               0 |   3135.48 |\n",
            "+--------+-----------------------+-----------------------+-----------------+-----------+\n",
            "|     20 |              1207.85  |               2298.53 |               0 |   2720.95 |\n",
            "+--------+-----------------------+-----------------------+-----------------+-----------+\n",
            "|     21 |              1461.32  |               3717.17 |               0 |   2093.14 |\n",
            "+--------+-----------------------+-----------------------+-----------------+-----------+\n",
            "|     22 |              1411.86  |               2628.55 |               0 |   2943.81 |\n",
            "+--------+-----------------------+-----------------------+-----------------+-----------+\n",
            "|     23 |              1230.15  |               4267.61 |               0 |   2825.46 |\n",
            "+--------+-----------------------+-----------------------+-----------------+-----------+\n"
          ]
        }
      ]
    },
    {
      "cell_type": "code",
      "source": [
        "import random\n",
        "from tabulate import tabulate\n",
        "\n",
        "def calcular_costo_deficit(generacion, demanda, costo_horario):\n",
        "    deficit = generacion - demanda\n",
        "    if deficit < 0:\n",
        "        costo_deficit = abs(deficit) * costo_horario\n",
        "    else:\n",
        "        costo_deficit = 0\n",
        "    return costo_deficit\n",
        "\n",
        "def generar_solucion_inicial(capacidad_unit1, capacidad_unit2, capacidad_unit3, rango_horario):\n",
        "    generacion_inicial = {}\n",
        "    for hora in rango_horario:\n",
        "        generacion_unit1 = random.uniform(0, capacidad_unit1)\n",
        "        generacion_unit2 = random.uniform(0, capacidad_unit2)\n",
        "        generacion_unit3 = random.uniform(0, capacidad_unit3)\n",
        "        generacion_inicial[hora] = (generacion_unit1, generacion_unit2, generacion_unit3)\n",
        "    return generacion_inicial\n",
        "\n",
        "def generar_movimiento(generacion_unit):\n",
        "    incremento = random.uniform(-0.1, 0.1) * generacion_unit\n",
        "    nueva_generacion_unit = generacion_unit + incremento\n",
        "    return max(nueva_generacion_unit, 0)  # Asegurarse de no tener generación negativa\n",
        "\n",
        "def aplicar_heuristica(capacidad_unit1, capacidad_unit2, capacidad_unit3, demanda_energia, costo_horario, rango_horario, iteraciones):\n",
        "    mejor_costo_deficit = float('inf')\n",
        "    mejor_generacion = {}\n",
        "\n",
        "    for _ in range(iteraciones):\n",
        "        generacion = generar_solucion_inicial(capacidad_unit1, capacidad_unit2, capacidad_unit3, rango_horario)\n",
        "        costo_deficit = sum(calcular_costo_deficit(sum(generacion[hora]), demanda_energia[hora], costo_horario) for hora in rango_horario)\n",
        "\n",
        "        for _ in range(100):  # Número fijo de iteraciones de mejora por solución inicial\n",
        "            nueva_generacion = {}\n",
        "            for hora in rango_horario:\n",
        "                generacion_unit1, generacion_unit2, generacion_unit3 = generacion[hora]\n",
        "                nueva_generacion_unit1 = generar_movimiento(generacion_unit1)\n",
        "                nueva_generacion_unit2 = generar_movimiento(generacion_unit2)\n",
        "                nueva_generacion_unit3 = generar_movimiento(generacion_unit3)\n",
        "                nueva_generacion[hora] = (nueva_generacion_unit1, nueva_generacion_unit2, nueva_generacion_unit3)\n",
        "\n",
        "            nuevo_costo_deficit = sum(calcular_costo_deficit(sum(nueva_generacion[hora]), demanda_energia[hora], costo_horario) for hora in rango_horario)\n",
        "\n",
        "            if nuevo_costo_deficit < costo_deficit:\n",
        "                generacion = nueva_generacion\n",
        "                costo_deficit = nuevo_costo_deficit\n",
        "            else:\n",
        "                break\n",
        "\n",
        "        if costo_deficit < mejor_costo_deficit:\n",
        "            mejor_costo_deficit = costo_deficit\n",
        "            mejor_generacion = generacion\n",
        "\n",
        "    return mejor_generacion, mejor_costo_deficit\n",
        "\n",
        "# Ejemplo de uso\n",
        "capacidad_unit1 = 1800\n",
        "capacidad_unit2 = 4200\n",
        "capacidad_unit3 = 2100  # Capacidad del nuevo generador\n",
        "costo_horario = 10\n",
        "rango_horario = range(24)  # Horas del día (0 a 23)\n",
        "\n",
        "# Generar demanda de energía aleatoria para cada hora del día\n",
        "# Generar demanda de energía aleatoria para cada hora del día\n",
        "demanda_energia = {hora: random.uniform(2000, 3600) for hora in rango_horario}\n",
        "\n",
        "# Generar demanda de energía para la nueva industria\n",
        "demanda_industria = {hora: random.uniform(500, 2200) for hora in rango_horario}\n",
        "\n",
        "# Combinar las demandas de las dos industrias\n",
        "demanda_total = {hora: demanda_energia[hora] + demanda_industria[hora] for hora in rango_horario}\n",
        "\n",
        "iteraciones = 100\n",
        "\n",
        "mejor_generacion, mejor_costo_deficit = aplicar_heuristica(capacidad_unit1, capacidad_unit2, capacidad_unit3, demanda_total, costo_horario, rango_horario, iteraciones)\n",
        "\n",
        "# Preparar los datos para la tabla\n",
        "tabla_resultados = []\n",
        "for hora, generacion in mejor_generacion.items():\n",
        "    generacion_total = sum(generacion)\n",
        "    demanda_total_hora = demanda_total[hora]\n",
        "    deficit_industria = max(generacion_total - demanda_industria[hora], 0)\n",
        "    deficit_energia = max(generacion_total - demanda_energia[hora], 0)\n",
        "    costo_deficit = calcular_costo_deficit(generacion_total, demanda_total_hora, costo_horario)\n",
        "    fila = [hora, generacion[0], generacion[1], generacion[2], costo_deficit, deficit_industria, deficit_energia, demanda_total_hora]\n",
        "    tabla_resultados.append(fila)\n",
        "\n",
        "# Mostrar los resultados en una tabla\n",
        "headers = [\"Hora\", \"Generación Unidad 1\", \"Generación Unidad 2\", \"Generación Unidad 3\", \"Costo Déficit\", \"Déficit Industria\", \"Déficit Energía\", \"Demanda Total\"]\n",
        "tabla = tabulate(tabla_resultados, headers, tablefmt=\"grid\")\n",
        "print(tabla)\n"
      ],
      "metadata": {
        "id": "_WkZO-NyymlJ",
        "colab": {
          "base_uri": "https://localhost:8080/"
        },
        "outputId": "a53fd817-2b30-409e-da99-44e5158b6168"
      },
      "execution_count": 62,
      "outputs": [
        {
          "output_type": "stream",
          "name": "stdout",
          "text": [
            "+--------+-----------------------+-----------------------+-----------------------+-----------------+---------------------+-------------------+-----------------+\n",
            "|   Hora |   Generación Unidad 1 |   Generación Unidad 2 |   Generación Unidad 3 |   Costo Déficit |   Déficit Industria |   Déficit Energía |   Demanda Total |\n",
            "+========+=======================+=======================+=======================+=================+=====================+===================+=================+\n",
            "|      0 |              262.661  |              2478.64  |              1666.95  |           0     |             3095.92 |         2085.52   |         3635.05 |\n",
            "+--------+-----------------------+-----------------------+-----------------------+-----------------+---------------------+-------------------+-----------------+\n",
            "|      1 |               21.3794 |              3309.63  |              1212.06  |           0     |             2466.78 |         2269.24   |         4350.11 |\n",
            "+--------+-----------------------+-----------------------+-----------------------+-----------------+---------------------+-------------------+-----------------+\n",
            "|      2 |             1784.35   |              1014.06  |               124.432 |       15594.7   |             1830.69 |            0      |         4482.31 |\n",
            "+--------+-----------------------+-----------------------+-----------------------+-----------------+---------------------+-------------------+-----------------+\n",
            "|      3 |              825.297  |              2089.8   |               324.511 |        1470.94  |             2035.1  |         1057.41   |         3386.7  |\n",
            "+--------+-----------------------+-----------------------+-----------------------+-----------------+---------------------+-------------------+-----------------+\n",
            "|      4 |             1662.43   |              4077.2   |              1308.51  |           0     |             6441.95 |         3465.75   |         4188.57 |\n",
            "+--------+-----------------------+-----------------------+-----------------------+-----------------+---------------------+-------------------+-----------------+\n",
            "|      5 |              983.767  |               713.683 |              1546.9   |           0     |             2526.33 |         1034.55   |         2927.82 |\n",
            "+--------+-----------------------+-----------------------+-----------------------+-----------------+---------------------+-------------------+-----------------+\n",
            "|      6 |               86.0901 |              4177.61  |               669.295 |           0     |             3102.74 |         2923.72   |         3839.55 |\n",
            "+--------+-----------------------+-----------------------+-----------------------+-----------------+---------------------+-------------------+-----------------+\n",
            "|      7 |             1315.78   |              1133.26  |              1983.76  |         967.469 |             2305.56 |         2030.49   |         4529.54 |\n",
            "+--------+-----------------------+-----------------------+-----------------------+-----------------+---------------------+-------------------+-----------------+\n",
            "|      8 |              843.137  |              3445.05  |              1149.34  |           0     |             4321.02 |         2750.74   |         3803.31 |\n",
            "+--------+-----------------------+-----------------------+-----------------------+-----------------+---------------------+-------------------+-----------------+\n",
            "|      9 |              649.724  |              3532.57  |               860.773 |           0     |             4449.95 |         2225.12   |         3411.06 |\n",
            "+--------+-----------------------+-----------------------+-----------------------+-----------------+---------------------+-------------------+-----------------+\n",
            "|     10 |             1604.19   |              3964.89  |              1472.88  |           0     |             6500.17 |         4379.47   |         3204.28 |\n",
            "+--------+-----------------------+-----------------------+-----------------------+-----------------+---------------------+-------------------+-----------------+\n",
            "|     11 |              713.145  |              3013.22  |               455.87  |        3538.98  |             3045.4  |          782.941  |         4536.14 |\n",
            "+--------+-----------------------+-----------------------+-----------------------+-----------------+---------------------+-------------------+-----------------+\n",
            "|     12 |              649.507  |              1765.37  |               577.472 |       12171.8   |             1745.65 |           29.5133 |         4209.52 |\n",
            "+--------+-----------------------+-----------------------+-----------------------+-----------------+---------------------+-------------------+-----------------+\n",
            "|     13 |              826.157  |              3194.82  |               306.073 |           0     |             2499.64 |         1865.65   |         4288.81 |\n",
            "+--------+-----------------------+-----------------------+-----------------------+-----------------+---------------------+-------------------+-----------------+\n",
            "|     14 |              666.325  |              3040.64  |              1155.74  |        2435.39  |             2787.05 |         1832.11   |         5106.24 |\n",
            "+--------+-----------------------+-----------------------+-----------------------+-----------------+---------------------+-------------------+-----------------+\n",
            "|     15 |             1098.24   |              2659.89  |               910.895 |           0     |             3139.75 |         1621.65   |         4576.66 |\n",
            "+--------+-----------------------+-----------------------+-----------------------+-----------------+---------------------+-------------------+-----------------+\n",
            "|     16 |              877.041  |              3444.21  |              1755.05  |           0     |             3911.09 |         3054.71   |         5186.79 |\n",
            "+--------+-----------------------+-----------------------+-----------------------+-----------------+---------------------+-------------------+-----------------+\n",
            "|     17 |             1029.33   |              1644.54  |               571.373 |        4057.82  |             1654.79 |         1184.67   |         3651.02 |\n",
            "+--------+-----------------------+-----------------------+-----------------------+-----------------+---------------------+-------------------+-----------------+\n",
            "|     18 |              674.876  |              3118.82  |               658.036 |           0     |             2568.21 |         2319.46   |         4015.8  |\n",
            "+--------+-----------------------+-----------------------+-----------------------+-----------------+---------------------+-------------------+-----------------+\n",
            "|     19 |             1392.03   |              1289.65  |               469.024 |       21343.1   |             1151.49 |            0      |         5285.02 |\n",
            "+--------+-----------------------+-----------------------+-----------------------+-----------------+---------------------+-------------------+-----------------+\n",
            "|     20 |              829.182  |              3608.15  |               393.638 |           0     |             4073.18 |         2494.62   |         3094.13 |\n",
            "+--------+-----------------------+-----------------------+-----------------------+-----------------+---------------------+-------------------+-----------------+\n",
            "|     21 |             1438.66   |              1866.67  |              1828.76  |           0     |             4495.18 |         1828.41   |         3944.61 |\n",
            "+--------+-----------------------+-----------------------+-----------------------+-----------------+---------------------+-------------------+-----------------+\n",
            "|     22 |              300.776  |              3672.68  |               539.832 |           0     |             2976.16 |         1668.38   |         4382.03 |\n",
            "+--------+-----------------------+-----------------------+-----------------------+-----------------+---------------------+-------------------+-----------------+\n",
            "|     23 |             1788.34   |              1952.47  |               937.794 |           0     |             4020.23 |         2528.21   |         2808.77 |\n",
            "+--------+-----------------------+-----------------------+-----------------------+-----------------+---------------------+-------------------+-----------------+\n"
          ]
        }
      ]
    },
    {
      "cell_type": "markdown",
      "source": [
        "##Optimización PULP"
      ],
      "metadata": {
        "id": "RnKNbjGHtkub"
      }
    },
    {
      "cell_type": "code",
      "source": [
        "pip install pulp"
      ],
      "metadata": {
        "id": "n4gzAfyZtzfm",
        "colab": {
          "base_uri": "https://localhost:8080/"
        },
        "outputId": "bb21110a-3092-4b6d-904e-9eb3c59dd8b7"
      },
      "execution_count": 63,
      "outputs": [
        {
          "output_type": "stream",
          "name": "stdout",
          "text": [
            "Requirement already satisfied: pulp in /usr/local/lib/python3.10/dist-packages (2.7.0)\n"
          ]
        }
      ]
    },
    {
      "cell_type": "code",
      "source": [
        "from pulp import *\n",
        "\n",
        "# Datos de las unidades hidroeléctricas\n",
        "gen_max = [1900, 4200, 2100]  # Generación máxima de cada unidad\n",
        "gen_min = [0, 1600, 400]  # Generación mínima de cada unidad\n",
        "\n",
        "# Caudal turbina para cada unidad\n",
        "def caudal_turbina(p):\n",
        "    return [0.0009 * p[0] + 0.2624, 0.0008 * p[1] + 0.053, 0.0005 * p[2] - 0.0154]\n",
        "\n",
        "# Precios de energía horaria\n",
        "precios_energia = [\n",
        "    6.19, 8.39, 6.19, 6.19, 5.35, 6.48, 5.35, 5.35, 6.19, 6.19, 6.19, 6.48,\n",
        "    6.19, 6.48, 6.19, 6.48, 6.19, 6.19, 9.46, 9.46, 8.96, 6.19, 6.19, 6.19\n",
        "]\n",
        "\n",
        "# Demanda horaria de autoconsumo y gran consumidor\n",
        "demanda_autoconsumo = [\n",
        "    4811, 4787, 4778, 4780, 4856, 4878, 4853, 4901, 5082, 5250, 5292, 5305,\n",
        "    5103, 5219, 5266, 5258, 5311, 5138, 4989, 4876, 4745, 4876, 4833, 4845\n",
        "]\n",
        "demanda_gran_consumidor = [\n",
        "    2114, 2175, 2095, 2248, 2213, 2170, 2172, 2286, 2289, 2213, 2181, 2303,\n",
        "    2374, 2332, 2200, 2264, 2251, 2162, 2261, 2120, 2028, 2136, 2183, 2198\n",
        "]\n",
        "\n",
        "# Crear el problema de optimización\n",
        "prob = LpProblem(\"Optimización de generación\", LpMinimize)\n",
        "\n",
        "# Variables de decisión: generación de cada unidad en cada hora\n",
        "generacion = [\n",
        "    [LpVariable(f\"gen_{i}_{j}\", gen_min[i], gen_max[i]) for j in range(24)]\n",
        "    for i in range(3)\n",
        "]\n",
        "# Variable de déficit para el Autoconsumo\n",
        "deficit_autoconsumo = [LpVariable(f\"deficit1_{j}\", lowBound=0) for j in range(24)]\n",
        "\n",
        "# Variable de déficit para el gran consumidor\n",
        "deficit_gran_consumidor = [LpVariable(f\"deficit2_{j}\", lowBound=0) for j in range(24)]\n",
        "\n",
        "\n",
        "# Función objetivo: minimizar el costo de compra de energía de déficit\n",
        "prob += lpSum([\n",
        "    precios_energia[j] * deficit_gran_consumidor[j] + precios_energia[j] * deficit_autoconsumo[j]\n",
        "    for j in range(24)\n",
        "])\n",
        "\n",
        "# Restricciones de generación y demanda\n",
        "for j in range(24):\n",
        "    # Restricciones de generación mínima y máxima\n",
        "    for i in range(3):\n",
        "        prob += generacion[i][j] >= gen_min[i]\n",
        "        prob += generacion[i][j] <= gen_max[i]\n",
        "\n",
        "    # Restricción de caudal para unidades 1 y 2\n",
        "    prob += generacion[0][j] + generacion[1][j] <= generacion[2][j] + 0.8\n",
        "\n",
        "    # Restricción de demanda de autoconsumo\n",
        "    #prob += generacion[0][j] + generacion[1][j] >= demanda_autoconsumo[j]\n",
        "\n",
        "    # Restricción de demanda del gran consumidor\n",
        "    #prob += generacion[2][j] >= demanda_gran_consumidor[j] + deficit_gran_consumidor[j]\n",
        "\n",
        "# Resolver el problema de optimización\n",
        "prob.solve()\n",
        "\n",
        "# Imprimir el resultado\n",
        "print(\"Estado de la solución:\", LpStatus[prob.status])\n",
        "print(\"Costo de compra de energía de déficit:\", value(prob.objective))\n",
        "\n",
        "# Imprimir la generación óptima de cada unidad en cada hora\n",
        "for i in range(3):\n",
        "    print(f\"Generación óptima de U{i+1}:\")\n",
        "    for j in range(24):\n",
        "        print(f\"Hora {j+1}: {value(generacion[i][j])}\")\n",
        "\n"
      ],
      "metadata": {
        "id": "jvpHJO7BzQ0O",
        "colab": {
          "base_uri": "https://localhost:8080/"
        },
        "outputId": "f92cd106-5c13-43da-f950-575b1d7d7681"
      },
      "execution_count": 64,
      "outputs": [
        {
          "output_type": "stream",
          "name": "stdout",
          "text": [
            "Estado de la solución: Optimal\n",
            "Costo de compra de energía de déficit: 0.0\n",
            "Generación óptima de U1:\n",
            "Hora 1: 0.0\n",
            "Hora 2: 0.0\n",
            "Hora 3: 0.0\n",
            "Hora 4: 0.0\n",
            "Hora 5: 0.0\n",
            "Hora 6: 0.0\n",
            "Hora 7: 0.0\n",
            "Hora 8: 0.0\n",
            "Hora 9: 0.0\n",
            "Hora 10: 0.0\n",
            "Hora 11: 0.0\n",
            "Hora 12: 0.0\n",
            "Hora 13: 0.0\n",
            "Hora 14: 0.0\n",
            "Hora 15: 0.0\n",
            "Hora 16: 0.0\n",
            "Hora 17: 0.0\n",
            "Hora 18: 0.0\n",
            "Hora 19: 0.0\n",
            "Hora 20: 0.0\n",
            "Hora 21: 0.0\n",
            "Hora 22: 0.0\n",
            "Hora 23: 0.0\n",
            "Hora 24: 0.0\n",
            "Generación óptima de U2:\n",
            "Hora 1: 1600.0\n",
            "Hora 2: 1600.0\n",
            "Hora 3: 1600.0\n",
            "Hora 4: 1600.0\n",
            "Hora 5: 1600.0\n",
            "Hora 6: 1600.0\n",
            "Hora 7: 1600.0\n",
            "Hora 8: 1600.0\n",
            "Hora 9: 1600.0\n",
            "Hora 10: 1600.0\n",
            "Hora 11: 1600.0\n",
            "Hora 12: 1600.0\n",
            "Hora 13: 1600.0\n",
            "Hora 14: 1600.0\n",
            "Hora 15: 1600.0\n",
            "Hora 16: 1600.0\n",
            "Hora 17: 1600.0\n",
            "Hora 18: 1600.0\n",
            "Hora 19: 1600.0\n",
            "Hora 20: 1600.0\n",
            "Hora 21: 1600.0\n",
            "Hora 22: 1600.0\n",
            "Hora 23: 1600.0\n",
            "Hora 24: 1600.0\n",
            "Generación óptima de U3:\n",
            "Hora 1: 2100.0\n",
            "Hora 2: 2100.0\n",
            "Hora 3: 2100.0\n",
            "Hora 4: 2100.0\n",
            "Hora 5: 2100.0\n",
            "Hora 6: 2100.0\n",
            "Hora 7: 2100.0\n",
            "Hora 8: 2100.0\n",
            "Hora 9: 2100.0\n",
            "Hora 10: 2100.0\n",
            "Hora 11: 2100.0\n",
            "Hora 12: 2100.0\n",
            "Hora 13: 2100.0\n",
            "Hora 14: 2100.0\n",
            "Hora 15: 2100.0\n",
            "Hora 16: 2100.0\n",
            "Hora 17: 2100.0\n",
            "Hora 18: 2100.0\n",
            "Hora 19: 2100.0\n",
            "Hora 20: 2100.0\n",
            "Hora 21: 2100.0\n",
            "Hora 22: 2100.0\n",
            "Hora 23: 2100.0\n",
            "Hora 24: 2100.0\n"
          ]
        }
      ]
    }
  ]
}